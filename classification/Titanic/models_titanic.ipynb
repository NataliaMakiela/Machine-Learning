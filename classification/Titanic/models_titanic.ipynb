{
 "cells": [
  {
   "cell_type": "markdown",
   "metadata": {},
   "source": [
    "# Modelling"
   ]
  },
  {
   "cell_type": "code",
   "execution_count": 20,
   "metadata": {},
   "outputs": [],
   "source": [
    "from sklearn.pipeline import Pipeline\n",
    "from sklearn.preprocessing import OneHotEncoder\n",
    "from sklearn.preprocessing import StandardScaler\n",
    "from sklearn.compose import ColumnTransformer\n",
    "from sklearn.linear_model import LogisticRegression\n",
    "from sklearn.impute import SimpleImputer\n",
    "from sklearn.base import BaseEstimator, TransformerMixin\n",
    "import pandas as pd\n",
    "from sklearn.model_selection import cross_val_score\n",
    "from sklearn.ensemble import RandomForestClassifier\n",
    "from sklearn.svm import SVC\n",
    "import matplotlib.pyplot as plt"
   ]
  },
  {
   "cell_type": "code",
   "execution_count": 21,
   "metadata": {},
   "outputs": [],
   "source": [
    "train = pd.read_csv(\"train.csv\")\n",
    "test = pd.read_csv(\"test.csv\")"
   ]
  },
  {
   "cell_type": "markdown",
   "metadata": {},
   "source": [
    "Data preparation:\n",
    "\n",
    "Pipeline:"
   ]
  },
  {
   "cell_type": "code",
   "execution_count": 22,
   "metadata": {},
   "outputs": [],
   "source": [
    "class FeaturesProcessor(BaseEstimator, TransformerMixin):\n",
    "    \"\"\"Imputes age data and creates new features: Deck and Family\"\"\"\n",
    "    def __init__(self, features):\n",
    "        self.features = features\n",
    "        self.age = 'Age' in features\n",
    "        self.deck = 'Deck' in features\n",
    "        self.family = 'Family' in features\n",
    "    def fit(self, X, y=None):\n",
    "        return self\n",
    "    def transform(self, X):\n",
    "        if self.age:\n",
    "            X['Age'] = X['Age'].fillna(train.groupby(['Pclass','Sex'])['Age'].transform('median'))\n",
    "        if self.deck:\n",
    "            X['Deck'] = X['Cabin'].apply(lambda x: x[0] if pd.notnull(x) else 'Mis')\n",
    "            X = X.drop('Cabin',axis=1)\n",
    "        if self.family:\n",
    "            X['Family'] = X['SibSp'] + X['Parch']\n",
    "            X = X.drop(['SibSp', 'Parch'], axis=1)\n",
    "        return X"
   ]
  },
  {
   "cell_type": "code",
   "execution_count": 23,
   "metadata": {},
   "outputs": [],
   "source": [
    "# Starting pipeline:\n",
    "# - imputing Age data\n",
    "# - adding features Deck and Family\n",
    "preprocess_pipeline_1 = Pipeline([\n",
    "        (\"features_processor\", FeaturesProcessor(features=['Age','Deck','Family']))\n",
    "    ])\n",
    "\n",
    "\n",
    "# Pipeline for numerical attributes:\n",
    "# - imputation of eventual raemaining missings (they might occur in the test set)\n",
    "# - scaling the data\n",
    "num_pipeline = Pipeline([\n",
    "        (\"imputer\", SimpleImputer(strategy='median')), \n",
    "        (\"scaler\", StandardScaler())\n",
    "    ])\n",
    "\n",
    "\n",
    "# Pipeline for categorical attributes:\n",
    "# - imputation of eventual raemaining missings (they might occur in the test set)\n",
    "# - creating dummy variables \n",
    "cat_pipeline = Pipeline([\n",
    "        ('imputer', SimpleImputer(strategy='most_frequent')),\n",
    "        (\"cat_encoder\", OneHotEncoder(sparse=False))\n",
    "    ])\n",
    "\n",
    "num_cols = [\"Age\", \"Fare\", \"Family\"]\n",
    "cat_cols = [\"Pclass\", \"Sex\", \"Embarked\", \"Deck\"]\n",
    "\n",
    "preprocess_pipeline_2 = ColumnTransformer([\n",
    "        (\"num\", num_pipeline, num_cols),\n",
    "        (\"cat\", cat_pipeline, cat_cols),\n",
    "    ]) \n"
   ]
  },
  {
   "cell_type": "markdown",
   "metadata": {},
   "source": [
    "Train and test sets:"
   ]
  },
  {
   "cell_type": "code",
   "execution_count": 24,
   "metadata": {},
   "outputs": [],
   "source": [
    "X_train = preprocess_pipeline_1.fit_transform(train)\n",
    "X_train = preprocess_pipeline_2.fit_transform(X_train[num_cols + cat_cols])\n",
    "y_train = train['Survived']"
   ]
  },
  {
   "cell_type": "code",
   "execution_count": 25,
   "metadata": {},
   "outputs": [],
   "source": [
    "X_test = preprocess_pipeline_1.fit_transform(test)\n",
    "X_test = preprocess_pipeline_2.fit_transform(X_test[num_cols + cat_cols])"
   ]
  },
  {
   "cell_type": "markdown",
   "metadata": {},
   "source": [
    "Logistic regression:"
   ]
  },
  {
   "cell_type": "code",
   "execution_count": 30,
   "metadata": {},
   "outputs": [
    {
     "data": {
      "text/plain": [
       "0.8103370786516855"
      ]
     },
     "execution_count": 30,
     "metadata": {},
     "output_type": "execute_result"
    }
   ],
   "source": [
    "lreg = LogisticRegression(max_iter=1000, random_state=42).fit(X_train, y_train)\n",
    "\n",
    "lreg_scores = cross_val_score(lreg, X_train, y_train, cv=10)\n",
    "lreg_scores.mean()"
   ]
  },
  {
   "cell_type": "markdown",
   "metadata": {},
   "source": [
    "Random forest:"
   ]
  },
  {
   "cell_type": "code",
   "execution_count": 31,
   "metadata": {},
   "outputs": [
    {
     "data": {
      "text/plain": [
       "0.8103995006242197"
      ]
     },
     "execution_count": 31,
     "metadata": {},
     "output_type": "execute_result"
    }
   ],
   "source": [
    "forest_clf = RandomForestClassifier(n_estimators=100, random_state=42)\n",
    "forest_clf.fit(X_train, y_train)\n",
    "forest_scores = cross_val_score(forest_clf, X_train, y_train, cv=10)\n",
    "forest_scores.mean()"
   ]
  },
  {
   "cell_type": "markdown",
   "metadata": {},
   "source": [
    "Support vector machine:"
   ]
  },
  {
   "cell_type": "code",
   "execution_count": 32,
   "metadata": {},
   "outputs": [
    {
     "data": {
      "text/plain": [
       "0.8148189762796505"
      ]
     },
     "execution_count": 32,
     "metadata": {},
     "output_type": "execute_result"
    }
   ],
   "source": [
    "svm_clf = SVC(gamma=\"auto\")\n",
    "svm_scores = cross_val_score(svm_clf, X_train, y_train, cv=10)\n",
    "svm_scores.mean()"
   ]
  },
  {
   "cell_type": "markdown",
   "metadata": {},
   "source": [
    "SVM had the highest mean accuracy"
   ]
  },
  {
   "cell_type": "code",
   "execution_count": 33,
   "metadata": {},
   "outputs": [
    {
     "data": {
      "image/png": "[encoded data removed]",
      "text/plain": [
       "<Figure size 720x432 with 1 Axes>"
      ]
     },
     "metadata": {
      "needs_background": "light"
     },
     "output_type": "display_data"
    }
   ],
   "source": [
    "plt.figure(figsize=(10, 6))\n",
    "plt.plot([1]*10, lreg_scores, \".\")\n",
    "plt.plot([2]*10, svm_scores, \".\")\n",
    "plt.plot([3]*10, forest_scores, \".\")\n",
    "plt.boxplot([lreg_scores, svm_scores, forest_scores], labels=(\"Logistic Regression\",\"SVM\",\"Random Forest\"))\n",
    "plt.ylabel(\"Accuracy\", fontsize=14)\n",
    "plt.show()\n"
   ]
  },
  {
   "cell_type": "markdown",
   "metadata": {},
   "source": [
    "Random Forest did reach higher maximum accuracy than SVM but it's worst results were worse than the ones of SVM's (RF has wider spread).<br>\n",
    "Concluding, SVM had higher mean and more reasonable spread => let's perform GridSearch on this method.\n"
   ]
  },
  {
   "cell_type": "markdown",
   "metadata": {},
   "source": [
    "TODO: \n",
    "- gridsearch\n",
    "- different variables variants "
   ]
  },
  {
   "cell_type": "markdown",
   "metadata": {},
   "source": []
  }
 ],
 "metadata": {
  "kernelspec": {
   "display_name": "Python 3.8.0 64-bit",
   "language": "python",
   "name": "python3"
  },
  "language_info": {
   "codemirror_mode": {
    "name": "ipython",
    "version": 3
   },
   "file_extension": ".py",
   "mimetype": "text/x-python",
   "name": "python",
   "nbconvert_exporter": "python",
   "pygments_lexer": "ipython3",
   "version": "3.8.0"
  },
  "orig_nbformat": 4,
  "vscode": {
   "interpreter": {
    "hash": "ae7e77047d9a842e1debc16e8ac57f59caa28ba63fff643b71244913633cbdf1"
   }
  }
 },
 "nbformat": 4,
 "nbformat_minor": 2
}
