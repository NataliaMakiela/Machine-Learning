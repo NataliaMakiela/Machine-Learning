{
 "cells": [
  {
   "cell_type": "markdown",
   "metadata": {},
   "source": [
    "# Modelling"
   ]
  },
  {
   "cell_type": "code",
   "execution_count": 139,
   "metadata": {},
   "outputs": [],
   "source": [
    "from sklearn.pipeline import Pipeline\n",
    "from sklearn.preprocessing import OneHotEncoder, StandardScaler\n",
    "from sklearn.compose import ColumnTransformer\n",
    "from sklearn.linear_model import LogisticRegression\n",
    "from sklearn.impute import SimpleImputer\n",
    "from sklearn.base import BaseEstimator, TransformerMixin\n",
    "import pandas as pd\n",
    "import numpy as np\n",
    "from sklearn.model_selection import cross_val_score, RandomizedSearchCV\n",
    "from sklearn.ensemble import RandomForestClassifier\n",
    "from sklearn.svm import SVC\n",
    "import matplotlib.pyplot as plt\n",
    "from scipy.stats import reciprocal, uniform\n",
    "from sklearn.metrics import accuracy_score"
   ]
  },
  {
   "cell_type": "code",
   "execution_count": 121,
   "metadata": {},
   "outputs": [],
   "source": [
    "train = pd.read_csv(\"train.csv\")\n",
    "test = pd.read_csv(\"test.csv\")"
   ]
  },
  {
   "cell_type": "markdown",
   "metadata": {},
   "source": [
    "Data preparation:\n",
    "\n",
    "Pipeline:"
   ]
  },
  {
   "cell_type": "code",
   "execution_count": 122,
   "metadata": {},
   "outputs": [],
   "source": [
    "class FeaturesProcessor(BaseEstimator, TransformerMixin):\n",
    "    \"\"\"Imputes age data and creates new features: Deck and Family\"\"\"\n",
    "    def __init__(self, features):\n",
    "        self.features = features\n",
    "        self.age = 'Age' in features\n",
    "        self.deck = 'Deck' in features\n",
    "        self.family = 'Family' in features\n",
    "    def fit(self, X, y=None):\n",
    "        return self\n",
    "    def transform(self, X):\n",
    "        if self.age:\n",
    "            X['Age'] = X['Age'].fillna(train.groupby(['Pclass','Sex'])['Age'].transform('median'))\n",
    "        if self.deck:\n",
    "            X['Deck'] = X['Cabin'].apply(lambda x: x[0] if pd.notnull(x) else 'Mis')\n",
    "            X['Deck'] = X['Deck'].replace(['T'], 'Mis')\n",
    "            X = X.drop('Cabin',axis=1)\n",
    "        if self.family:\n",
    "            X['Family'] = X['SibSp'] + X['Parch']\n",
    "            X = X.drop(['SibSp', 'Parch'], axis=1)\n",
    "        return X"
   ]
  },
  {
   "cell_type": "code",
   "execution_count": 123,
   "metadata": {},
   "outputs": [],
   "source": [
    "# Starting pipeline:\n",
    "# - imputing Age data\n",
    "# - adding features Deck and Family\n",
    "preprocess_pipeline_1 = Pipeline([\n",
    "        (\"features_processor\", FeaturesProcessor(features=['Age','Deck','Family']))\n",
    "    ])\n",
    "\n",
    "\n",
    "# Pipeline for numerical attributes:\n",
    "# - imputation of eventual raemaining missings (they might occur in the test set)\n",
    "# - scaling the data\n",
    "num_pipeline = Pipeline([\n",
    "        (\"imputer\", SimpleImputer(strategy='median')), \n",
    "        (\"scaler\", StandardScaler())\n",
    "    ])\n",
    "\n",
    "\n",
    "# Pipeline for categorical attributes:\n",
    "# - imputation of eventual raemaining missings (they might occur in the test set)\n",
    "# - creating dummy variables \n",
    "cat_pipeline = Pipeline([\n",
    "        ('imputer', SimpleImputer(strategy='most_frequent')),\n",
    "        (\"cat_encoder\", OneHotEncoder(sparse=False))\n",
    "    ])\n",
    "\n",
    "num_cols = [\"Age\", \"Fare\", \"Family\"]\n",
    "cat_cols = [\"Pclass\", \"Sex\", \"Embarked\", \"Deck\"]\n",
    "\n",
    "preprocess_pipeline_2 = ColumnTransformer([\n",
    "        (\"num\", num_pipeline, num_cols),\n",
    "        (\"cat\", cat_pipeline, cat_cols),\n",
    "    ]) \n"
   ]
  },
  {
   "cell_type": "markdown",
   "metadata": {},
   "source": [
    "Train and test sets:"
   ]
  },
  {
   "cell_type": "code",
   "execution_count": 125,
   "metadata": {},
   "outputs": [],
   "source": [
    "X_train = preprocess_pipeline_1.fit_transform(train)\n",
    "X_train = preprocess_pipeline_2.fit_transform(X_train[num_cols + cat_cols])\n",
    "y_train = train['Survived']"
   ]
  },
  {
   "cell_type": "code",
   "execution_count": 98,
   "metadata": {},
   "outputs": [],
   "source": [
    "X_test = preprocess_pipeline_1.fit_transform(test)\n",
    "X_test = preprocess_pipeline_2.fit_transform(X_test[num_cols + cat_cols])"
   ]
  },
  {
   "cell_type": "code",
   "execution_count": 127,
   "metadata": {},
   "outputs": [
    {
     "name": "stdout",
     "output_type": "stream",
     "text": [
      "(891, 19) (418, 19)\n"
     ]
    }
   ],
   "source": [
    "print(X_train.shape, X_test.shape)"
   ]
  },
  {
   "cell_type": "markdown",
   "metadata": {},
   "source": [
    "Logistic regression:"
   ]
  },
  {
   "cell_type": "code",
   "execution_count": 128,
   "metadata": {},
   "outputs": [
    {
     "data": {
      "text/plain": [
       "0.8103370786516855"
      ]
     },
     "execution_count": 128,
     "metadata": {},
     "output_type": "execute_result"
    }
   ],
   "source": [
    "lreg = LogisticRegression(max_iter=1000).fit(X_train, y_train)\n",
    "\n",
    "lreg_scores = cross_val_score(lreg, X_train, y_train, cv=10)\n",
    "lreg_scores.mean()"
   ]
  },
  {
   "cell_type": "markdown",
   "metadata": {},
   "source": [
    "Random forest:"
   ]
  },
  {
   "cell_type": "code",
   "execution_count": 129,
   "metadata": {},
   "outputs": [
    {
     "data": {
      "text/plain": [
       "0.8070287141073658"
      ]
     },
     "execution_count": 129,
     "metadata": {},
     "output_type": "execute_result"
    }
   ],
   "source": [
    "forest_clf = RandomForestClassifier(n_estimators=100)\n",
    "forest_clf.fit(X_train, y_train)\n",
    "forest_scores = cross_val_score(forest_clf, X_train, y_train, cv=10)\n",
    "forest_scores.mean()"
   ]
  },
  {
   "cell_type": "markdown",
   "metadata": {},
   "source": [
    "Support vector machine:"
   ]
  },
  {
   "cell_type": "code",
   "execution_count": 130,
   "metadata": {},
   "outputs": [
    {
     "data": {
      "text/plain": [
       "0.8148189762796505"
      ]
     },
     "execution_count": 130,
     "metadata": {},
     "output_type": "execute_result"
    }
   ],
   "source": [
    "svm_clf = SVC(gamma=\"auto\")\n",
    "svm_scores = cross_val_score(svm_clf, X_train, y_train, cv=10)\n",
    "svm_scores.mean()"
   ]
  },
  {
   "cell_type": "markdown",
   "metadata": {},
   "source": [
    "SVM had the highest mean accuracy"
   ]
  },
  {
   "cell_type": "code",
   "execution_count": 131,
   "metadata": {},
   "outputs": [
    {
     "data": {
      "image/png": "[encoded data removed]",
      "text/plain": [
       "<Figure size 720x432 with 1 Axes>"
      ]
     },
     "metadata": {
      "needs_background": "light"
     },
     "output_type": "display_data"
    }
   ],
   "source": [
    "plt.figure(figsize=(10, 6))\n",
    "plt.plot([1]*10, lreg_scores, \".\")\n",
    "plt.plot([2]*10, svm_scores, \".\")\n",
    "plt.plot([3]*10, forest_scores, \".\")\n",
    "plt.boxplot([lreg_scores, svm_scores, forest_scores], labels=(\"Logistic Regression\",\"SVM\",\"Random Forest\"))\n",
    "plt.ylabel(\"Accuracy\", fontsize=14)\n",
    "plt.show()\n"
   ]
  },
  {
   "cell_type": "markdown",
   "metadata": {},
   "source": [
    "Random Forest did reach higher maximum accuracy than SVM but it's worst results were worse than the ones of SVM's (RF has wider spread).<br>\n",
    "Concluding, SVM had higher mean and more reasonable spread => let's perform GridSearch on this method.\n"
   ]
  },
  {
   "cell_type": "code",
   "execution_count": 132,
   "metadata": {},
   "outputs": [
    {
     "name": "stdout",
     "output_type": "stream",
     "text": [
      "Fitting 3 folds for each of 50 candidates, totalling 150 fits\n",
      "[CV] END ....C=8.950853053556568, gamma=0.002544841697526309; total time=   0.0s\n",
      "[CV] END ....C=8.950853053556568, gamma=0.002544841697526309; total time=   0.0s\n",
      "[CV] END ....C=8.950853053556568, gamma=0.002544841697526309; total time=   0.0s\n",
      "[CV] END ...C=10.399953135149714, gamma=0.053237034119774096; total time=   0.0s\n",
      "[CV] END ...C=10.399953135149714, gamma=0.053237034119774096; total time=   0.0s\n",
      "[CV] END ...C=10.399953135149714, gamma=0.053237034119774096; total time=   0.0s\n",
      "[CV] END ..C=3.4003846265728135, gamma=0.0039744305119075495; total time=   0.0s\n",
      "[CV] END ..C=3.4003846265728135, gamma=0.0039744305119075495; total time=   0.0s\n",
      "[CV] END ..C=3.4003846265728135, gamma=0.0039744305119075495; total time=   0.0s\n",
      "[CV] END ....C=11.373610416744782, gamma=0.03299375358633605; total time=   0.0s\n",
      "[CV] END ....C=11.373610416744782, gamma=0.03299375358633605; total time=   0.0s\n",
      "[CV] END ....C=11.373610416744782, gamma=0.03299375358633605; total time=   0.0s\n",
      "[CV] END ..C=15.119542284312779, gamma=0.0017433300405427375; total time=   0.0s\n",
      "[CV] END ..C=15.119542284312779, gamma=0.0017433300405427375; total time=   0.0s\n",
      "[CV] END ..C=15.119542284312779, gamma=0.0017433300405427375; total time=   0.0s\n",
      "[CV] END ...C=13.811641360869658, gamma=0.008936524414471366; total time=   0.0s\n",
      "[CV] END ...C=13.811641360869658, gamma=0.008936524414471366; total time=   0.0s\n",
      "[CV] END ...C=13.811641360869658, gamma=0.008936524414471366; total time=   0.0s\n",
      "[CV] END ....C=10.85256745185151, gamma=0.007997323423598568; total time=   0.0s\n",
      "[CV] END ....C=10.85256745185151, gamma=0.007997323423598568; total time=   0.0s\n",
      "[CV] END ....C=10.85256745185151, gamma=0.007997323423598568; total time=   0.0s\n",
      "[CV] END .....C=9.673569371443415, gamma=0.03601290322086997; total time=   0.0s\n",
      "[CV] END .....C=9.673569371443415, gamma=0.03601290322086997; total time=   0.0s\n",
      "[CV] END .....C=9.673569371443415, gamma=0.03601290322086997; total time=   0.0s\n",
      "[CV] END ...C=7.289960840136402, gamma=0.0019708022199264636; total time=   0.0s\n",
      "[CV] END ...C=7.289960840136402, gamma=0.0019708022199264636; total time=   0.0s\n",
      "[CV] END ...C=7.289960840136402, gamma=0.0019708022199264636; total time=   0.0s\n",
      "[CV] END ..C=15.301647583706416, gamma=0.0035881496783032206; total time=   0.0s\n",
      "[CV] END ..C=15.301647583706416, gamma=0.0035881496783032206; total time=   0.0s\n",
      "[CV] END ..C=15.301647583706416, gamma=0.0035881496783032206; total time=   0.0s\n",
      "[CV] END ...C=3.0504434582873072, gamma=0.020901704064859188; total time=   0.0s\n",
      "[CV] END ...C=3.0504434582873072, gamma=0.020901704064859188; total time=   0.0s\n",
      "[CV] END ...C=3.0504434582873072, gamma=0.020901704064859188; total time=   0.0s\n",
      "[CV] END ....C=2.640973887905026, gamma=0.005574429511039104; total time=   0.0s\n",
      "[CV] END ....C=2.640973887905026, gamma=0.005574429511039104; total time=   0.0s\n",
      "[CV] END ....C=2.640973887905026, gamma=0.005574429511039104; total time=   0.0s\n",
      "[CV] END ...C=15.222117161695017, gamma=0.014906911263593378; total time=   0.0s\n",
      "[CV] END ...C=15.222117161695017, gamma=0.014906911263593378; total time=   0.0s\n",
      "[CV] END ...C=15.222117161695017, gamma=0.014906911263593378; total time=   0.0s\n",
      "[CV] END ..C=14.396831443039844, gamma=0.0014650061472062882; total time=   0.0s\n",
      "[CV] END ..C=14.396831443039844, gamma=0.0014650061472062882; total time=   0.0s\n",
      "[CV] END ..C=14.396831443039844, gamma=0.0014650061472062882; total time=   0.0s\n",
      "[CV] END ....C=15.579703623477906, gamma=0.06562256417485832; total time=   0.0s\n",
      "[CV] END ....C=15.579703623477906, gamma=0.06562256417485832; total time=   0.0s\n",
      "[CV] END ....C=15.579703623477906, gamma=0.06562256417485832; total time=   0.0s\n",
      "[CV] END ....C=8.345621322494367, gamma=0.004646779056579737; total time=   0.0s\n",
      "[CV] END ....C=8.345621322494367, gamma=0.004646779056579737; total time=   0.0s\n",
      "[CV] END ....C=8.345621322494367, gamma=0.004646779056579737; total time=   0.0s\n",
      "[CV] END ....C=9.511007775007167, gamma=0.007880799748948942; total time=   0.0s\n",
      "[CV] END ....C=9.511007775007167, gamma=0.007880799748948942; total time=   0.0s\n",
      "[CV] END ....C=9.511007775007167, gamma=0.007880799748948942; total time=   0.0s\n",
      "[CV] END .....C=13.45246298821205, gamma=0.00138959923422761; total time=   0.0s\n",
      "[CV] END .....C=13.45246298821205, gamma=0.00138959923422761; total time=   0.0s\n",
      "[CV] END .....C=13.45246298821205, gamma=0.00138959923422761; total time=   0.0s\n",
      "[CV] END ...C=2.3967217246354413, gamma=0.005201381860776498; total time=   0.0s\n",
      "[CV] END ...C=2.3967217246354413, gamma=0.005201381860776498; total time=   0.0s\n",
      "[CV] END ...C=2.3967217246354413, gamma=0.005201381860776498; total time=   0.0s\n",
      "[CV] END ...C=15.722939696169878, gamma=0.040795286424841114; total time=   0.0s\n",
      "[CV] END ...C=15.722939696169878, gamma=0.040795286424841114; total time=   0.0s\n",
      "[CV] END ...C=15.722939696169878, gamma=0.040795286424841114; total time=   0.0s\n",
      "[CV] END ...C=12.41483444276652, gamma=0.0030483712362388646; total time=   0.0s\n",
      "[CV] END ...C=12.41483444276652, gamma=0.0030483712362388646; total time=   0.0s\n",
      "[CV] END ...C=12.41483444276652, gamma=0.0030483712362388646; total time=   0.0s\n",
      "[CV] END ....C=8.666284576533403, gamma=0.015225061852953258; total time=   0.0s\n",
      "[CV] END ....C=8.666284576533403, gamma=0.015225061852953258; total time=   0.0s\n",
      "[CV] END ....C=8.666284576533403, gamma=0.015225061852953258; total time=   0.0s\n",
      "[CV] END ....C=2.930232743280289, gamma=0.007657778338220245; total time=   0.0s\n",
      "[CV] END ....C=2.930232743280289, gamma=0.007657778338220245; total time=   0.0s\n",
      "[CV] END ....C=2.930232743280289, gamma=0.007657778338220245; total time=   0.0s\n",
      "[CV] END ....C=15.582136572393795, gamma=0.04309403263408705; total time=   0.0s\n",
      "[CV] END ....C=15.582136572393795, gamma=0.04309403263408705; total time=   0.0s\n",
      "[CV] END ....C=15.582136572393795, gamma=0.04309403263408705; total time=   0.0s\n",
      "[CV] END ....C=4.210030914142835, gamma=0.007691201744484957; total time=   0.0s\n",
      "[CV] END ....C=4.210030914142835, gamma=0.007691201744484957; total time=   0.0s\n",
      "[CV] END ....C=4.210030914142835, gamma=0.007691201744484957; total time=   0.0s\n",
      "[CV] END .....C=1.397797187634739, gamma=0.04897363691695876; total time=   0.0s\n",
      "[CV] END .....C=1.397797187634739, gamma=0.04897363691695876; total time=   0.0s\n",
      "[CV] END .....C=1.397797187634739, gamma=0.04897363691695876; total time=   0.0s\n",
      "[CV] END ....C=9.733041185228927, gamma=0.005680409001843967; total time=   0.0s\n",
      "[CV] END ....C=9.733041185228927, gamma=0.005680409001843967; total time=   0.0s\n",
      "[CV] END ....C=9.733041185228927, gamma=0.005680409001843967; total time=   0.0s\n",
      "[CV] END .....C=2.642703962046621, gamma=0.02635117590631726; total time=   0.0s\n",
      "[CV] END .....C=2.642703962046621, gamma=0.02635117590631726; total time=   0.0s\n",
      "[CV] END .....C=2.642703962046621, gamma=0.02635117590631726; total time=   0.0s\n",
      "[CV] END ...C=13.384718121110508, gamma=0.027917725693759634; total time=   0.0s\n",
      "[CV] END ...C=13.384718121110508, gamma=0.027917725693759634; total time=   0.0s\n",
      "[CV] END ...C=13.384718121110508, gamma=0.027917725693759634; total time=   0.0s\n",
      "[CV] END ....C=14.497733873730802, gamma=0.02921153820606952; total time=   0.0s\n",
      "[CV] END ....C=14.497733873730802, gamma=0.02921153820606952; total time=   0.0s\n",
      "[CV] END ....C=14.497733873730802, gamma=0.02921153820606952; total time=   0.0s\n",
      "[CV] END ...C=13.861575238991206, gamma=0.013760030729029217; total time=   0.0s\n",
      "[CV] END ...C=13.861575238991206, gamma=0.013760030729029217; total time=   0.0s\n",
      "[CV] END ...C=13.861575238991206, gamma=0.013760030729029217; total time=   0.0s\n",
      "[CV] END ...C=4.7838929508360115, gamma=0.002168755399947799; total time=   0.0s\n",
      "[CV] END ...C=4.7838929508360115, gamma=0.002168755399947799; total time=   0.0s\n",
      "[CV] END ...C=4.7838929508360115, gamma=0.002168755399947799; total time=   0.0s\n",
      "[CV] END ....C=8.861542944326272, gamma=0.013135576434539371; total time=   0.0s\n",
      "[CV] END ....C=8.861542944326272, gamma=0.013135576434539371; total time=   0.0s\n",
      "[CV] END ....C=8.861542944326272, gamma=0.013135576434539371; total time=   0.0s\n",
      "[CV] END ..C=1.4589696247798218, gamma=0.0010080264066859676; total time=   0.0s\n",
      "[CV] END ..C=1.4589696247798218, gamma=0.0010080264066859676; total time=   0.0s\n",
      "[CV] END ..C=1.4589696247798218, gamma=0.0010080264066859676; total time=   0.0s\n",
      "[CV] END .....C=9.577869263883091, gamma=0.06056570658828626; total time=   0.0s\n",
      "[CV] END .....C=9.577869263883091, gamma=0.06056570658828626; total time=   0.0s\n",
      "[CV] END .....C=9.577869263883091, gamma=0.06056570658828626; total time=   0.0s\n",
      "[CV] END ....C=12.897908099126989, gamma=0.06149125293584161; total time=   0.0s\n",
      "[CV] END ....C=12.897908099126989, gamma=0.06149125293584161; total time=   0.0s\n",
      "[CV] END ....C=12.897908099126989, gamma=0.06149125293584161; total time=   0.0s\n",
      "[CV] END ..C=13.651160389029577, gamma=0.0016098104695862862; total time=   0.0s\n",
      "[CV] END ..C=13.651160389029577, gamma=0.0016098104695862862; total time=   0.0s\n",
      "[CV] END ..C=13.651160389029577, gamma=0.0016098104695862862; total time=   0.0s\n",
      "[CV] END ....C=14.722802081257377, gamma=0.07152947464352621; total time=   0.0s\n",
      "[CV] END ....C=14.722802081257377, gamma=0.07152947464352621; total time=   0.0s\n",
      "[CV] END ....C=14.722802081257377, gamma=0.07152947464352621; total time=   0.0s\n",
      "[CV] END ..C=11.919382749528786, gamma=0.0022715768759565256; total time=   0.0s\n",
      "[CV] END ..C=11.919382749528786, gamma=0.0022715768759565256; total time=   0.0s\n",
      "[CV] END ..C=11.919382749528786, gamma=0.0022715768759565256; total time=   0.0s\n",
      "[CV] END .....C=4.254294360970752, gamma=0.02399215193218767; total time=   0.0s\n",
      "[CV] END .....C=4.254294360970752, gamma=0.02399215193218767; total time=   0.0s\n",
      "[CV] END .....C=4.254294360970752, gamma=0.02399215193218767; total time=   0.0s\n",
      "[CV] END ..C=10.052608494725517, gamma=0.0024327828104846252; total time=   0.0s\n",
      "[CV] END ..C=10.052608494725517, gamma=0.0024327828104846252; total time=   0.0s\n",
      "[CV] END ..C=10.052608494725517, gamma=0.0024327828104846252; total time=   0.0s\n",
      "[CV] END ...C=6.1444406537791805, gamma=0.005244679299662187; total time=   0.0s\n",
      "[CV] END ...C=6.1444406537791805, gamma=0.005244679299662187; total time=   0.0s\n",
      "[CV] END ...C=6.1444406537791805, gamma=0.005244679299662187; total time=   0.0s\n",
      "[CV] END ....C=8.09346664337151, gamma=0.0028465142457553133; total time=   0.0s\n",
      "[CV] END ....C=8.09346664337151, gamma=0.0028465142457553133; total time=   0.0s\n",
      "[CV] END ....C=8.09346664337151, gamma=0.0028465142457553133; total time=   0.0s\n",
      "[CV] END ...C=9.964002631336275, gamma=0.0039491182872752936; total time=   0.0s\n",
      "[CV] END ...C=9.964002631336275, gamma=0.0039491182872752936; total time=   0.0s\n",
      "[CV] END ...C=9.964002631336275, gamma=0.0039491182872752936; total time=   0.0s\n",
      "[CV] END ...C=12.222848204176046, gamma=0.002200569646054064; total time=   0.0s\n",
      "[CV] END ...C=12.222848204176046, gamma=0.002200569646054064; total time=   0.0s\n",
      "[CV] END ...C=12.222848204176046, gamma=0.002200569646054064; total time=   0.0s\n",
      "[CV] END ....C=8.763589006750266, gamma=0.007808723498616078; total time=   0.0s\n",
      "[CV] END ....C=8.763589006750266, gamma=0.007808723498616078; total time=   0.0s\n",
      "[CV] END ....C=8.763589006750266, gamma=0.007808723498616078; total time=   0.0s\n",
      "[CV] END .....C=10.35325369703238, gamma=0.08111750386834496; total time=   0.0s\n",
      "[CV] END .....C=10.35325369703238, gamma=0.08111750386834496; total time=   0.0s\n",
      "[CV] END .....C=10.35325369703238, gamma=0.08111750386834496; total time=   0.0s\n",
      "[CV] END ...C=11.724606958168327, gamma=0.010441943157933155; total time=   0.0s\n",
      "[CV] END ...C=11.724606958168327, gamma=0.010441943157933155; total time=   0.0s\n",
      "[CV] END ...C=11.724606958168327, gamma=0.010441943157933155; total time=   0.0s\n",
      "[CV] END ......C=5.880286876392385, gamma=0.0644250533176671; total time=   0.0s\n",
      "[CV] END ......C=5.880286876392385, gamma=0.0644250533176671; total time=   0.0s\n",
      "[CV] END ......C=5.880286876392385, gamma=0.0644250533176671; total time=   0.0s\n",
      "[CV] END ....C=11.777445171516483, gamma=0.08961966895893506; total time=   0.0s\n",
      "[CV] END ....C=11.777445171516483, gamma=0.08961966895893506; total time=   0.0s\n",
      "[CV] END ....C=11.777445171516483, gamma=0.08961966895893506; total time=   0.0s\n"
     ]
    },
    {
     "data": {
      "text/plain": [
       "RandomizedSearchCV(cv=3, estimator=SVC(gamma='auto'), n_iter=50,\n",
       "                   param_distributions={'C': <scipy.stats._distn_infrastructure.rv_frozen object at 0x0000018FBB921220>,\n",
       "                                        'gamma': <scipy.stats._distn_infrastructure.rv_frozen object at 0x0000018FBBDE37F0>},\n",
       "                   verbose=2)"
      ]
     },
     "execution_count": 132,
     "metadata": {},
     "output_type": "execute_result"
    }
   ],
   "source": [
    "param_distributions = {\"gamma\": reciprocal(0.001, 0.1), \"C\": uniform(1, 15)}\n",
    "rnd_search_cv = RandomizedSearchCV(svm_clf, param_distributions, verbose=2, cv=3, n_iter=50)\n",
    "rnd_search_cv.fit(X_train, y_train)"
   ]
  },
  {
   "cell_type": "code",
   "execution_count": 133,
   "metadata": {},
   "outputs": [
    {
     "name": "stdout",
     "output_type": "stream",
     "text": [
      "SVC(C=10.35325369703238, gamma=0.08111750386834496) 0.8271604938271605\n"
     ]
    }
   ],
   "source": [
    "print(rnd_search_cv.best_estimator_, rnd_search_cv.best_score_)\n",
    "#SVC(C=10.35325369703238, gamma=0.08111750386834496) 0.8271604938271605"
   ]
  },
  {
   "cell_type": "code",
   "execution_count": 134,
   "metadata": {},
   "outputs": [
    {
     "data": {
      "text/plain": [
       "0.8529741863075196"
      ]
     },
     "execution_count": 134,
     "metadata": {},
     "output_type": "execute_result"
    }
   ],
   "source": [
    "y_pred = rnd_search_cv.best_estimator_.predict(X_train)\n",
    "accuracy_score(y_train, y_pred)\n",
    "#0.8529741863075196"
   ]
  },
  {
   "cell_type": "code",
   "execution_count": 151,
   "metadata": {},
   "outputs": [],
   "source": [
    "y_pred = rnd_search_cv.best_estimator_.predict(X_test)"
   ]
  },
  {
   "cell_type": "code",
   "execution_count": 158,
   "metadata": {},
   "outputs": [],
   "source": [
    "predictions = pd.DataFrame({'PassengerId': np.array(test['PassengerId']), 'Survived': y_pred})\n",
    "predictions.to_csv('titanic_submission.csv',index=False)"
   ]
  },
  {
   "cell_type": "markdown",
   "metadata": {},
   "source": [
    "Test score - 78% so there is room to improvement expecially cause we see that this model overfits the data"
   ]
  },
  {
   "cell_type": "markdown",
   "metadata": {},
   "source": [
    "TODO:\n",
    "- improve this model"
   ]
  },
  {
   "cell_type": "markdown",
   "metadata": {},
   "source": []
  }
 ],
 "metadata": {
  "kernelspec": {
   "display_name": "Python 3.8.0 64-bit",
   "language": "python",
   "name": "python3"
  },
  "language_info": {
   "codemirror_mode": {
    "name": "ipython",
    "version": 3
   },
   "file_extension": ".py",
   "mimetype": "text/x-python",
   "name": "python",
   "nbconvert_exporter": "python",
   "pygments_lexer": "ipython3",
   "version": "3.8.0"
  },
  "orig_nbformat": 4,
  "vscode": {
   "interpreter": {
    "hash": "ae7e77047d9a842e1debc16e8ac57f59caa28ba63fff643b71244913633cbdf1"
   }
  }
 },
 "nbformat": 4,
 "nbformat_minor": 2
}
